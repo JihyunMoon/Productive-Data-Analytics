import pandas as pd
import seaborn as sns 
import numpy as np 
import matplotlib.pyplot as plt

# CSV 불러오기
data = pd.read_csv('/Users/jihyunmoon/Desktop/py/모두연/Pandas/day3/day4/trip.csv')

# 데이터 요약
data.info()

# 결측치 확인
print("🔍 결측치 개수:\n", data.isnull().sum())

# 결측치 비율
missing_percentage = data.isnull().mean() * 100
print("📊 결측치 비율:\n", missing_percentage)

# fare_amount가 있으면 평균으로 채우기
if 'fare_amount' in data.columns:
    data['fare_amount'] = data['fare_amount'].fillna(data['fare_amount'].median())
    print("✅ fare_amount 결측치를 평균으로 대체했습니다.")
else:
    print("❌ 'fare_amount' 컬럼이 없습니다.")

# 이상치 제거 함수 정의
def remove_outliers_iqr(data, column):
    if column not in data.columns:
        print(f"⚠️ {column} 컬럼이 없습니다.")
        return data

    Q1 = data[column].quantile(0.25)
    Q3 = data[column].quantile(0.75)
    IQR = Q3 - Q1
    lower_bound = Q1 - 1.5 * IQR
    upper_bound = Q3 + 1.5 * IQR

    original_len = len(data)
    filtered_data = data[(data[column] >= lower_bound) & (data[column] <= upper_bound)]
    print(f"✅ '{column}'에서 {original_len - len(filtered_data)}개의 이상치를 제거했습니다.")
    return filtered_data

# 시각화: 박스플롯
if 'fare_amount' in data.columns:
    sns.boxplot(x='fare_amount', data=data)
    plt.title('Fare Amount Distribution')
    plt.xlabel('Fare Amount')
    plt.show()

# 이상치 시각화: Scatter plot
numeric_columns = ['passenger_count', 'trip_distance', 'fare_amount', 'tip_amount', 'tolls_amount']
for column in numeric_columns:
    if column in data.columns:
        plt.figure(figsize=(10, 5))
        sns.scatterplot(x=data.index, y=data[column])
        plt.title(f'Scatter Plot of {column}')
        plt.xlabel('Index')
        plt.ylabel(column)
        plt.show()

# 이상치 제거 적용
for col in numeric_columns:
    if col in data.columns:
        data = remove_outliers_iqr(data, col)

# 최종 확인
print("📌 최종 데이터 정보:")
print(data.info())

# 주행 시간을 계산한다. 
# 날짜형으로 변환
data['tpep_pickup_datetime'] = pd.to_datetime(data['tpep_pickup_datetime'])
data['tpep_dropoff_datetime'] = pd.to_datetime(data['tpep_dropoff_datetime'])

# 주행 시간 계산 (단위: 분)
data['trip_duration'] = (data['tpep_dropoff_datetime'] - data['tpep_pickup_datetime']).dt.total_seconds() / 60

card_types = ['Credit card', 'Debit card']
data['Payment_simplified'] = data['payment_method'].apply(lambda x: 'Card' if x in card_types else 'Cash')

print(data[['trip_duration', 'trip_distance', 'fare_amount']].corr())
sns.scatterplot(data=data, x='trip_duration', y='trip_distance', hue='Payment_simplified')
plt.title('Trip Duration VS Trip Distance')
plt.xlabel('Trip Duration (minutes)')
plt.ylabel('Trip Distance (miles)')
plt.legend(title='Payment Type')
plt.show()
